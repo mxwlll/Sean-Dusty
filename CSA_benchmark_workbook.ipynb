{
 "cells": [
  {
   "cell_type": "code",
   "execution_count": 3,
   "id": "ccae2a14",
   "metadata": {},
   "outputs": [],
   "source": [
    "import numpy as np\n",
    "import matplotlib.pyplot as plt\n",
    "from CSA_math import *\n",
    "import os\n",
    "\n"
   ]
  },
  {
   "cell_type": "markdown",
   "id": "5ebc597d",
   "metadata": {},
   "source": [
    "bring in the dust"
   ]
  },
  {
   "cell_type": "code",
   "execution_count": 4,
   "id": "577869dc",
   "metadata": {},
   "outputs": [],
   "source": [
    "dust_dir = ['/home/physics/Research/DUSTY/DUSTY/Lib_nk/', \n",
    "            \"C:/UTSA/Research/DUSTY/DUSTY/Lib_nk/\"]\n",
    "\n",
    "\n",
    "nk_path = dust_dir[1]               #where the dust is \n",
    "dust = 'forstA.nk'                  #DUST NAME HERE\n",
    "rho = 3.33 #grams cm**-3            #density\n",
    "pathy = os.path.join(nk_path, dust) #pipeline is open"
   ]
  },
  {
   "cell_type": "markdown",
   "id": "01421b53",
   "metadata": {},
   "source": [
    "Secondary Dust input\n",
    "### needs second rho"
   ]
  },
  {
   "cell_type": "code",
   "execution_count": 6,
   "id": "2b366680",
   "metadata": {},
   "outputs": [],
   "source": [
    "dust2 = 'oliv_nk_x.nk'\n",
    "pathb = os.path.join(nk_path, dust2)\n",
    "rho2 = 1.0"
   ]
  },
  {
   "cell_type": "markdown",
   "id": "329d67f9",
   "metadata": {},
   "source": [
    "take out the important stuff from the file, make it nice for us"
   ]
  },
  {
   "cell_type": "code",
   "execution_count": 5,
   "id": "78c568bf",
   "metadata": {},
   "outputs": [],
   "source": [
    "wavelen, n_dust, k_dust = np.loadtxt(pathy, skiprows=12, unpack=True)\n",
    "                                    #lamda, n, and k values are extracted\n",
    "\n",
    "m = np.array([complex(n_dust[i], k_dust[i]) for i in range(len(wavelen))])\n",
    "                                    #joins n, k values into complex number\n"
   ]
  },
  {
   "cell_type": "code",
   "execution_count": 8,
   "id": "19c94226",
   "metadata": {},
   "outputs": [],
   "source": [
    "wavelen2, n_dust2, k_dust2 = np.loadtxt(pathb, skiprows=12, unpack=True)\n",
    "                                    #lamda, n, and k values are extracted\n",
    "wavelen2 = wavelen2**(-1) * 10000   #Convert wavelen2 to waveLENGTH from waveNUMBER\n",
    "m2 = np.array([complex(n_dust2[i], k_dust2[i]) for i in range(len(wavelen2))])\n",
    "                                    #joins n, k values into complex number\n"
   ]
  },
  {
   "cell_type": "markdown",
   "id": "211210e9",
   "metadata": {},
   "source": [
    "### Calculate average Polarizability per unit volume ($\\bar{\\alpha}$) and shape averaged mass absorption coefficient $\\langle \\kappa \\rangle$"
   ]
  },
  {
   "cell_type": "markdown",
   "id": "33121f1a",
   "metadata": {},
   "source": [
    "##### Spheres"
   ]
  },
  {
   "cell_type": "code",
   "execution_count": 9,
   "id": "443e75de",
   "metadata": {},
   "outputs": [],
   "source": [
    "asph = np.array(a_sph(m))           #spherical\n",
    "kap_sph = [((2 * np.pi / (1e-4*wavelen[i]))/rho)*np.imag(asph[i])for i in range(len(wavelen))]\n",
    "asph2 = np.array(a_sph(m2))\n",
    "kap_sph2 = [((2 * np.pi / (1e-4*wavelen2[i]))/rho2)*np.imag(asph2[i])for i in range(len(wavelen2))]\n"
   ]
  },
  {
   "cell_type": "markdown",
   "id": "69770c63",
   "metadata": {},
   "source": [
    "##### Ellipsoids \n",
    "CDE1 = $\\frac{2m^2}{m^2 - 1}\\ln{m^2} - 2$\n",
    "\n",
    "CDE2 = $20kV \\Im[\\frac{m^6}{(m^2 - 1)^4}\\ln{m^2} + \\frac{1}{(m^2 - 1)^3} + \\frac{5}{2(m^2 - 1)^2} + \\frac{11}{6(m^2 - 1)} + \\frac{1}{4}]$"
   ]
  },
  {
   "cell_type": "code",
   "execution_count": null,
   "id": "45d533b6",
   "metadata": {},
   "outputs": [],
   "source": []
  },
  {
   "cell_type": "code",
   "execution_count": null,
   "id": "1989417b",
   "metadata": {},
   "outputs": [],
   "source": []
  }
 ],
 "metadata": {
  "kernelspec": {
   "display_name": "Python 3",
   "language": "python",
   "name": "python3"
  },
  "language_info": {
   "codemirror_mode": {
    "name": "ipython",
    "version": 3
   },
   "file_extension": ".py",
   "mimetype": "text/x-python",
   "name": "python",
   "nbconvert_exporter": "python",
   "pygments_lexer": "ipython3",
   "version": "3.7.9"
  }
 },
 "nbformat": 4,
 "nbformat_minor": 5
}
